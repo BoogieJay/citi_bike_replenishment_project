{
 "cells": [
  {
   "cell_type": "code",
   "execution_count": 2,
   "metadata": {
    "collapsed": false
   },
   "outputs": [],
   "source": [
    "from pyspark import SparkContext\n",
    "from pyspark.sql import SQLContext\n",
    "from math import sqrt\n",
    "from pyspark.sql.functions import lit"
   ]
  },
  {
   "cell_type": "code",
   "execution_count": 3,
   "metadata": {
    "collapsed": false
   },
   "outputs": [],
   "source": [
    "sc = SparkContext()\n",
    "sqlContext = SQLContext(sc)"
   ]
  },
  {
   "cell_type": "code",
   "execution_count": 14,
   "metadata": {
    "collapsed": true
   },
   "outputs": [],
   "source": []
  },
  {
   "cell_type": "code",
   "execution_count": null,
   "metadata": {
    "collapsed": true
   },
   "outputs": [],
   "source": []
  },
  {
   "cell_type": "code",
   "execution_count": null,
   "metadata": {
    "collapsed": true
   },
   "outputs": [],
   "source": [
    "# Read three dataSet"
   ]
  },
  {
   "cell_type": "code",
   "execution_count": 4,
   "metadata": {
    "collapsed": false
   },
   "outputs": [],
   "source": [
    "station_rdd = sc.textFile(\"./result/station_result\")\n",
    "station_rdd = station_rdd.map(lambda line : line.split())"
   ]
  },
  {
   "cell_type": "code",
   "execution_count": 5,
   "metadata": {
    "collapsed": false
   },
   "outputs": [
    {
     "data": {
      "text/plain": [
       "[['Fri', 'Morning', '120', '40.68676', '-73.95929', '19', '0.02'],\n",
       " ['Fri', 'Morning', '143', '40.69239', '-73.99338', '24', '0.13'],\n",
       " ['Fri', 'Morning', '150', '40.72087', '-73.98086', '31', '0.05']]"
      ]
     },
     "execution_count": 5,
     "metadata": {},
     "output_type": "execute_result"
    }
   ],
   "source": [
    "station_rdd.take(3)"
   ]
  },
  {
   "cell_type": "code",
   "execution_count": 6,
   "metadata": {
    "collapsed": true
   },
   "outputs": [],
   "source": [
    "station_df = station_rdd.toDF([\"Day\", \"Time\", \"Id\", \"Latitude\", \"Longitude\", \"Total\",\"Percent\"])"
   ]
  },
  {
   "cell_type": "code",
   "execution_count": 7,
   "metadata": {
    "collapsed": false
   },
   "outputs": [
    {
     "name": "stdout",
     "output_type": "stream",
     "text": [
      "+---+-------+---+--------+---------+-----+-------+\n",
      "|Day|   Time| Id|Latitude|Longitude|Total|Percent|\n",
      "+---+-------+---+--------+---------+-----+-------+\n",
      "|Fri|Morning|120|40.68676|-73.95929|   19|   0.02|\n",
      "|Fri|Morning|143|40.69239|-73.99338|   24|   0.13|\n",
      "|Fri|Morning|150|40.72087|-73.98086|   31|   0.05|\n",
      "+---+-------+---+--------+---------+-----+-------+\n",
      "only showing top 3 rows\n",
      "\n"
     ]
    }
   ],
   "source": [
    "station_df.show(3)"
   ]
  },
  {
   "cell_type": "code",
   "execution_count": null,
   "metadata": {
    "collapsed": true
   },
   "outputs": [],
   "source": []
  },
  {
   "cell_type": "code",
   "execution_count": null,
   "metadata": {
    "collapsed": true
   },
   "outputs": [],
   "source": []
  },
  {
   "cell_type": "code",
   "execution_count": 8,
   "metadata": {
    "collapsed": true
   },
   "outputs": [],
   "source": [
    "traffic_rdd = sc.textFile(\"./result/traffic_result_20\")\n",
    "traffic_rdd = traffic_rdd.map(lambda line : line.split())"
   ]
  },
  {
   "cell_type": "code",
   "execution_count": 9,
   "metadata": {
    "collapsed": false
   },
   "outputs": [
    {
     "data": {
      "text/plain": [
       "[['40.60153', '-74.06137', 'Tue', 'Morning', '18.95'],\n",
       " ['40.60157', '-74.06018', 'Tue', 'Morning', '18.95'],\n",
       " ['40.60161', '-74.06218', 'Tue', 'Morning', '18.95']]"
      ]
     },
     "execution_count": 9,
     "metadata": {},
     "output_type": "execute_result"
    }
   ],
   "source": [
    "traffic_rdd.take(3)"
   ]
  },
  {
   "cell_type": "code",
   "execution_count": 10,
   "metadata": {
    "collapsed": true
   },
   "outputs": [],
   "source": [
    "traffic_df = traffic_rdd.toDF([\"Latitude\", \"Longitude\", \"Day\", \"Time\", \"Speed\"])"
   ]
  },
  {
   "cell_type": "code",
   "execution_count": 11,
   "metadata": {
    "collapsed": false
   },
   "outputs": [
    {
     "name": "stdout",
     "output_type": "stream",
     "text": [
      "+--------+---------+---+-------+-----+\n",
      "|Latitude|Longitude|Day|   Time|Speed|\n",
      "+--------+---------+---+-------+-----+\n",
      "|40.60153|-74.06137|Tue|Morning|18.95|\n",
      "|40.60157|-74.06018|Tue|Morning|18.95|\n",
      "|40.60161|-74.06218|Tue|Morning|18.95|\n",
      "+--------+---------+---+-------+-----+\n",
      "only showing top 3 rows\n",
      "\n"
     ]
    }
   ],
   "source": [
    "traffic_df.show(3)"
   ]
  },
  {
   "cell_type": "code",
   "execution_count": null,
   "metadata": {
    "collapsed": true
   },
   "outputs": [],
   "source": []
  },
  {
   "cell_type": "code",
   "execution_count": null,
   "metadata": {
    "collapsed": true
   },
   "outputs": [],
   "source": []
  },
  {
   "cell_type": "code",
   "execution_count": 12,
   "metadata": {
    "collapsed": true
   },
   "outputs": [],
   "source": [
    "trip_rdd = sc.textFile(\"./result/trip_result\")\n",
    "trip_rdd = trip_rdd.map(lambda line : line.split())"
   ]
  },
  {
   "cell_type": "code",
   "execution_count": 13,
   "metadata": {
    "collapsed": false
   },
   "outputs": [
    {
     "data": {
      "text/plain": [
       "[['116', 'Mon', 'Night', '-3'],\n",
       " ['116', 'Thu', 'Morning', '-1'],\n",
       " ['116', 'Tue', 'Night', '-2']]"
      ]
     },
     "execution_count": 13,
     "metadata": {},
     "output_type": "execute_result"
    }
   ],
   "source": [
    "trip_rdd.take(3)"
   ]
  },
  {
   "cell_type": "code",
   "execution_count": 14,
   "metadata": {
    "collapsed": true
   },
   "outputs": [],
   "source": [
    "trip_df = trip_rdd.toDF([\"Id\", \"Day\", \"Time\", \"Rate\"])"
   ]
  },
  {
   "cell_type": "code",
   "execution_count": 15,
   "metadata": {
    "collapsed": false
   },
   "outputs": [
    {
     "name": "stdout",
     "output_type": "stream",
     "text": [
      "+---+---+-------+----+\n",
      "| Id|Day|   Time|Rate|\n",
      "+---+---+-------+----+\n",
      "|116|Mon|  Night|  -3|\n",
      "|116|Thu|Morning|  -1|\n",
      "|116|Tue|  Night|  -2|\n",
      "+---+---+-------+----+\n",
      "only showing top 3 rows\n",
      "\n"
     ]
    }
   ],
   "source": [
    "trip_df.show(3)"
   ]
  },
  {
   "cell_type": "code",
   "execution_count": null,
   "metadata": {
    "collapsed": true
   },
   "outputs": [],
   "source": []
  },
  {
   "cell_type": "code",
   "execution_count": null,
   "metadata": {
    "collapsed": true
   },
   "outputs": [],
   "source": []
  },
  {
   "cell_type": "code",
   "execution_count": null,
   "metadata": {
    "collapsed": true
   },
   "outputs": [],
   "source": []
  },
  {
   "cell_type": "code",
   "execution_count": 9,
   "metadata": {
    "collapsed": true
   },
   "outputs": [],
   "source": [
    "# Inner join station_data and trip_data"
   ]
  },
  {
   "cell_type": "code",
   "execution_count": 16,
   "metadata": {
    "collapsed": false
   },
   "outputs": [],
   "source": [
    "bike_df = station_df.join(trip_df, on = [\"Id\", \"Time\", \"Day\"])"
   ]
  },
  {
   "cell_type": "code",
   "execution_count": 17,
   "metadata": {
    "collapsed": false
   },
   "outputs": [
    {
     "name": "stdout",
     "output_type": "stream",
     "text": [
      "+----+-------+---+--------+---------+-----+-------+----+\n",
      "|  Id|   Time|Day|Latitude|Longitude|Total|Percent|Rate|\n",
      "+----+-------+---+--------+---------+-----+-------+----+\n",
      "| 244|Morning|Wed|40.69196|-73.96537|   31|    0.1|  -3|\n",
      "|3060|Morning|Thu|40.69425|-73.94627|   19|   0.12|  -1|\n",
      "|3096|   Noon|Sat|40.71924|-73.95242|   39|   0.13|  -3|\n",
      "+----+-------+---+--------+---------+-----+-------+----+\n",
      "only showing top 3 rows\n",
      "\n"
     ]
    }
   ],
   "source": [
    "bike_df.show(3)"
   ]
  },
  {
   "cell_type": "code",
   "execution_count": null,
   "metadata": {
    "collapsed": true
   },
   "outputs": [],
   "source": []
  },
  {
   "cell_type": "code",
   "execution_count": null,
   "metadata": {
    "collapsed": true
   },
   "outputs": [],
   "source": []
  },
  {
   "cell_type": "code",
   "execution_count": null,
   "metadata": {
    "collapsed": true
   },
   "outputs": [],
   "source": []
  },
  {
   "cell_type": "code",
   "execution_count": 25,
   "metadata": {
    "collapsed": true
   },
   "outputs": [],
   "source": [
    "# Select Monday monrning to analyze"
   ]
  },
  {
   "cell_type": "code",
   "execution_count": 124,
   "metadata": {
    "collapsed": false
   },
   "outputs": [],
   "source": [
    "bike_curr = bike_df.filter((bike_df[\"Day\"] == \"Mon\") & (bike_df[\"Time\"] == \"Morning\"))"
   ]
  },
  {
   "cell_type": "code",
   "execution_count": 125,
   "metadata": {
    "collapsed": false
   },
   "outputs": [
    {
     "name": "stdout",
     "output_type": "stream",
     "text": [
      "+----+-------+---+--------+---------+-----+-------+----+\n",
      "|  Id|   Time|Day|Latitude|Longitude|Total|Percent|Rate|\n",
      "+----+-------+---+--------+---------+-----+-------+----+\n",
      "|3354|Morning|Mon|40.66813|-73.97364|   31|   0.01|  -1|\n",
      "| 349|Morning|Mon| 40.7185| -73.9833|   23|    0.0|  -4|\n",
      "|3288|Morning|Mon| 40.7783|-73.94882|   39|   0.02|  -3|\n",
      "+----+-------+---+--------+---------+-----+-------+----+\n",
      "only showing top 3 rows\n",
      "\n"
     ]
    }
   ],
   "source": [
    "bike_curr.show(3)"
   ]
  },
  {
   "cell_type": "code",
   "execution_count": null,
   "metadata": {
    "collapsed": true
   },
   "outputs": [],
   "source": []
  },
  {
   "cell_type": "code",
   "execution_count": 20,
   "metadata": {
    "collapsed": true
   },
   "outputs": [],
   "source": [
    "traffic_curr = traffic_df.filter((traffic_df[\"Day\"] == \"Mon\") & (traffic_df[\"Time\"] == \"Morning\"))"
   ]
  },
  {
   "cell_type": "code",
   "execution_count": 22,
   "metadata": {
    "collapsed": false
   },
   "outputs": [
    {
     "name": "stdout",
     "output_type": "stream",
     "text": [
      "+--------+---------+---+-------+-----+\n",
      "|Latitude|Longitude|Day|   Time|Speed|\n",
      "+--------+---------+---+-------+-----+\n",
      "|  40.609|-74.14958|Mon|Morning| 1.86|\n",
      "|40.60933|-74.15027|Mon|Morning| 1.86|\n",
      "|40.60989|-74.15113|Mon|Morning| 1.86|\n",
      "+--------+---------+---+-------+-----+\n",
      "only showing top 3 rows\n",
      "\n"
     ]
    }
   ],
   "source": [
    "traffic_curr.show(3)"
   ]
  },
  {
   "cell_type": "code",
   "execution_count": null,
   "metadata": {
    "collapsed": true
   },
   "outputs": [],
   "source": []
  },
  {
   "cell_type": "code",
   "execution_count": null,
   "metadata": {
    "collapsed": true
   },
   "outputs": [],
   "source": []
  },
  {
   "cell_type": "code",
   "execution_count": null,
   "metadata": {
    "collapsed": false
   },
   "outputs": [],
   "source": []
  },
  {
   "cell_type": "code",
   "execution_count": null,
   "metadata": {
    "collapsed": false
   },
   "outputs": [],
   "source": []
  },
  {
   "cell_type": "code",
   "execution_count": 34,
   "metadata": {
    "collapsed": false
   },
   "outputs": [],
   "source": []
  },
  {
   "cell_type": "code",
   "execution_count": 39,
   "metadata": {
    "collapsed": true
   },
   "outputs": [],
   "source": [
    "# Combine three factors(percent, rate, distance)"
   ]
  },
  {
   "cell_type": "code",
   "execution_count": null,
   "metadata": {
    "collapsed": true
   },
   "outputs": [],
   "source": [
    "# Get the distance score"
   ]
  },
  {
   "cell_type": "code",
   "execution_count": 35,
   "metadata": {
    "collapsed": false
   },
   "outputs": [],
   "source": [
    "def getScoreFromPoint (bike_curr, traffic_curr):\n",
    "    lst = []\n",
    "    bike_collect = bike_curr.collect()\n",
    "    traffic_collect = traffic_curr.collect()\n",
    "    for i in range(bike_curr.count()):\n",
    "        bike_row = bike_collect[i]\n",
    "        bike_latitude = float(bike_row[\"Latitude\"])\n",
    "        bike_longtitude = float(bike_row[\"Longitude\"])\n",
    "        min_dis = 1\n",
    "        score = 0\n",
    "        for j in range(traffic_curr.count()):\n",
    "            traffic_row = traffic_collect[j]\n",
    "            traffic_latitude = float(traffic_row[\"Latitude\"])\n",
    "            traffic_longitude = float(traffic_row[\"Longitude\"])\n",
    "            if ((abs(bike_latitude - traffic_latitude) > 0.01) | (abs(bike_longtitude - traffic_longitude) > 0.01)):\n",
    "                continue\n",
    "            dis = sqrt((bike_latitude - traffic_latitude) ** 2 + (bike_longtitude - traffic_longitude) ** 2)\n",
    "            min_dis = min(dis, min_dis)\n",
    "        if min_dis >= 0.002:\n",
    "            score = 0.2\n",
    "        else:\n",
    "            score = (min_dis / 0.002) * 0.2\n",
    "        lst.append(score)\n",
    "    return lst"
   ]
  },
  {
   "cell_type": "code",
   "execution_count": 36,
   "metadata": {
    "collapsed": false
   },
   "outputs": [],
   "source": [
    "dist_score = getScoreFromPoint(bike_curr, traffic_curr)"
   ]
  },
  {
   "cell_type": "code",
   "execution_count": null,
   "metadata": {
    "collapsed": false
   },
   "outputs": [],
   "source": []
  },
  {
   "cell_type": "code",
   "execution_count": null,
   "metadata": {
    "collapsed": false
   },
   "outputs": [],
   "source": [
    "# add another two factors and combine with distance score"
   ]
  },
  {
   "cell_type": "code",
   "execution_count": 56,
   "metadata": {
    "collapsed": true
   },
   "outputs": [],
   "source": [
    "def findLestScore(lst):\n",
    "    min_rate = 0\n",
    "    for i in range(len(lst)):\n",
    "        curr_rate = float(lst[i][\"Rate\"])\n",
    "        min_rate = min(min_rate, curr_rate)\n",
    "    return min_rate"
   ]
  },
  {
   "cell_type": "code",
   "execution_count": 63,
   "metadata": {
    "collapsed": true
   },
   "outputs": [],
   "source": [
    "def combineThreeFactor(dist_score, bike_curr):\n",
    "    score = []\n",
    "    bike_collect = bike_curr.collect()\n",
    "    min_rate = -1 * findLestScore(bike_collect) - 1\n",
    "    for i in range(len(bike_collect)):\n",
    "        bike_row = bike_collect[i]\n",
    "        bike_percent = float(bike_row[\"Percent\"])\n",
    "        bike_rate = float(bike_row[\"Rate\"])\n",
    "        curr_score = ((0.2 - bike_percent) * 2) + (-bike_rate + 1) * (0.4 / min_rate) + dist_score[i]\n",
    "        score.append(curr_score)\n",
    "    return score"
   ]
  },
  {
   "cell_type": "code",
   "execution_count": 64,
   "metadata": {
    "collapsed": false
   },
   "outputs": [],
   "source": [
    "final_score = combineThreeFactor(dist_score, bike_curr)"
   ]
  },
  {
   "cell_type": "code",
   "execution_count": null,
   "metadata": {
    "collapsed": false
   },
   "outputs": [],
   "source": []
  },
  {
   "cell_type": "code",
   "execution_count": null,
   "metadata": {
    "collapsed": false
   },
   "outputs": [],
   "source": []
  },
  {
   "cell_type": "code",
   "execution_count": null,
   "metadata": {
    "collapsed": true
   },
   "outputs": [],
   "source": []
  },
  {
   "cell_type": "code",
   "execution_count": null,
   "metadata": {
    "collapsed": true
   },
   "outputs": [],
   "source": []
  },
  {
   "cell_type": "code",
   "execution_count": 66,
   "metadata": {
    "collapsed": true
   },
   "outputs": [],
   "source": [
    "# add final score to original table"
   ]
  },
  {
   "cell_type": "code",
   "execution_count": 162,
   "metadata": {
    "collapsed": false
   },
   "outputs": [],
   "source": [
    "id_col = bike_curr.select(\"Id\").collect()"
   ]
  },
  {
   "cell_type": "code",
   "execution_count": 163,
   "metadata": {
    "collapsed": false
   },
   "outputs": [],
   "source": [
    "id_score = []\n",
    "for i in range(len(final_score)):\n",
    "    id_score.append([id_col[i][\"Id\"], final_score[i]])"
   ]
  },
  {
   "cell_type": "code",
   "execution_count": 165,
   "metadata": {
    "collapsed": true
   },
   "outputs": [],
   "source": [
    "id_col_rdd = sc.parallelize(id_score)"
   ]
  },
  {
   "cell_type": "code",
   "execution_count": 167,
   "metadata": {
    "collapsed": false
   },
   "outputs": [
    {
     "data": {
      "text/plain": [
       "[['3354', 0.618095238095238],\n",
       " ['349', 0.6952380952380952],\n",
       " ['3288', 0.6361904761904762]]"
      ]
     },
     "execution_count": 167,
     "metadata": {},
     "output_type": "execute_result"
    }
   ],
   "source": [
    "id_col_rdd.take(3)"
   ]
  },
  {
   "cell_type": "code",
   "execution_count": 168,
   "metadata": {
    "collapsed": false
   },
   "outputs": [],
   "source": [
    "id_score_df = id_col_rdd.toDF([\"Id\", \"Score\"])"
   ]
  },
  {
   "cell_type": "code",
   "execution_count": 181,
   "metadata": {
    "collapsed": false
   },
   "outputs": [],
   "source": [
    "bike_curr_with_score = bike_curr.join(id_score_df, on = [\"Id\"])"
   ]
  },
  {
   "cell_type": "code",
   "execution_count": null,
   "metadata": {
    "collapsed": true
   },
   "outputs": [],
   "source": []
  },
  {
   "cell_type": "code",
   "execution_count": null,
   "metadata": {
    "collapsed": true
   },
   "outputs": [],
   "source": []
  },
  {
   "cell_type": "code",
   "execution_count": null,
   "metadata": {
    "collapsed": true
   },
   "outputs": [],
   "source": [
    "# Sort on the Score and show top 10 score"
   ]
  },
  {
   "cell_type": "code",
   "execution_count": 182,
   "metadata": {
    "collapsed": false
   },
   "outputs": [],
   "source": [
    "bike_curr_with_score_sorted = bike_curr_with_score.sort(\"Score\", ascending=False)"
   ]
  },
  {
   "cell_type": "code",
   "execution_count": 183,
   "metadata": {
    "collapsed": false
   },
   "outputs": [
    {
     "name": "stdout",
     "output_type": "stream",
     "text": [
      "+----+-------+---+--------+---------+-----+-------+----+------------------+\n",
      "|  Id|   Time|Day|Latitude|Longitude|Total|Percent|Rate|             Score|\n",
      "+----+-------+---+--------+---------+-----+-------+----+------------------+\n",
      "| 511|Morning|Mon|40.72938|-73.97773|   33|   0.02| -22|0.9980952380952381|\n",
      "| 445|Morning|Mon| 40.7274|-73.98143|   42|   0.03| -21|0.9590476190476191|\n",
      "| 394|Morning|Mon|40.72521|-73.97769|   32|   0.01| -10|0.7895238095238095|\n",
      "|3178|Morning|Mon|40.78414|-73.98363|   39|    0.0|  -5|0.7142857142857144|\n",
      "| 473|Morning|Mon| 40.7211|-73.99193|   38|    0.0|  -5|0.7142857142857144|\n",
      "| 393|Morning|Mon|40.72299|-73.97996|   31|    0.0|  -5|0.7142857142857144|\n",
      "| 265|Morning|Mon|40.72229|-73.99148|   35|    0.0|  -4|0.6952380952380952|\n",
      "| 349|Morning|Mon| 40.7185| -73.9833|   23|    0.0|  -4|0.6952380952380952|\n",
      "| 356|Morning|Mon|40.71622|-73.98262|   23|    0.0|  -4|0.6952380952380952|\n",
      "|3341|Morning|Mon|40.79534|-73.96186|   59|    0.0|  -4|0.6952380952380952|\n",
      "+----+-------+---+--------+---------+-----+-------+----+------------------+\n",
      "only showing top 10 rows\n",
      "\n"
     ]
    }
   ],
   "source": [
    "bike_curr_with_score_sorted.show(10)"
   ]
  },
  {
   "cell_type": "code",
   "execution_count": 185,
   "metadata": {
    "collapsed": false
   },
   "outputs": [],
   "source": [
    "bike_curr_with_score_sorted.toPandas().to_csv(\"Analyze_Result\")"
   ]
  },
  {
   "cell_type": "code",
   "execution_count": null,
   "metadata": {
    "collapsed": true
   },
   "outputs": [],
   "source": []
  }
 ],
 "metadata": {
  "anaconda-cloud": {},
  "kernelspec": {
   "display_name": "Python [Root]",
   "language": "python",
   "name": "Python [Root]"
  },
  "language_info": {
   "codemirror_mode": {
    "name": "ipython",
    "version": 3
   },
   "file_extension": ".py",
   "mimetype": "text/x-python",
   "name": "python",
   "nbconvert_exporter": "python",
   "pygments_lexer": "ipython3",
   "version": "3.5.2"
  }
 },
 "nbformat": 4,
 "nbformat_minor": 0
}
